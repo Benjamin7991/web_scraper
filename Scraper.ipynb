{
 "cells": [
  {
   "cell_type": "markdown",
   "id": "4ec8f3cb",
   "metadata": {},
   "source": [
    "# Christy Sports Pricing Scraper\n",
    "###### Benjamin Parsons -VRR"
   ]
  },
  {
   "cell_type": "markdown",
   "id": "9bcf9ddb",
   "metadata": {},
   "source": [
    "---"
   ]
  },
  {
   "cell_type": "markdown",
   "id": "f1cac623",
   "metadata": {},
   "source": [
    "### This scraping bot extracts daily rental prices from Christy Sports wesbite, accessing all stores in the following markets:\n",
    "##### -Breck\n",
    "##### -Vail/Beaver Creek\n",
    "##### -Front Range\n",
    "##### -Park City\n",
    "##### -Crested Butte\n",
    "##### -Aspen/Snowmass\n",
    "\n",
    "#### In its current state, prices are pulled for demo adult, sport adult, premium adult, sport kids, demo skids. This is for ski's only, no snowboarding prices have been scraped (yet). I will add new markets as needed. Refer to code outputs for sample dataframe capture.\n",
    "\n",
    "## How it works:\n",
    "#### Upon running code, selenium will access website via chrome driver, and prices and package type will be appended to a list. That list is then converted into a dataframe object. Once all markets/stores have been consolidated into dataframes, and we can keep them as is or transfer to Excel sheet."
   ]
  },
  {
   "cell_type": "markdown",
   "id": "862c0bae",
   "metadata": {},
   "source": [
    "##### Ask John about data consolidation/data points as well as file path for Excel writer!"
   ]
  },
  {
   "cell_type": "code",
   "execution_count": null,
   "id": "bb006c06",
   "metadata": {},
   "outputs": [],
   "source": [
    "import pandas as pd"
   ]
  },
  {
   "cell_type": "code",
   "execution_count": null,
   "id": "2bd98595",
   "metadata": {},
   "outputs": [],
   "source": [
    "#!pip install selenium"
   ]
  },
  {
   "cell_type": "code",
   "execution_count": null,
   "id": "0100d095",
   "metadata": {},
   "outputs": [],
   "source": [
    "from selenium.webdriver.common.by import By\n",
    "from selenium.webdriver.support.wait import WebDriverWait\n",
    "from selenium.webdriver.support import expected_conditions as EC"
   ]
  },
  {
   "cell_type": "code",
   "execution_count": null,
   "id": "d1d7bf0c",
   "metadata": {},
   "outputs": [],
   "source": [
    "from time import sleep\n",
    "from selenium import webdriver\n",
    "browser = webdriver.Chrome()"
   ]
  },
  {
   "cell_type": "code",
   "execution_count": null,
   "id": "834b03ea",
   "metadata": {},
   "outputs": [],
   "source": [
    "def func(x):\n",
    "    x = ''.join(x.split(' ')[1::])\n",
    "    return x"
   ]
  },
  {
   "cell_type": "markdown",
   "id": "413e119b",
   "metadata": {},
   "source": [
    "# Breckenridge"
   ]
  },
  {
   "cell_type": "code",
   "execution_count": null,
   "id": "fd3cd5e7",
   "metadata": {},
   "outputs": [],
   "source": [
    "breck_stores = ['breck-village.html', 'lone-star-breckenridge.html', 'main-street-station.html', 'grand-timber.html', 'pine-ridge.html', 'the-ranahan.html']\n",
    "breck= []\n",
    "\n",
    "for store in breck_stores:\n",
    "    url = 'https://www.christysports.com/store-locations/' + store\n",
    "    browser.get(url)\n",
    "    #demo\n",
    "    store = browser.find_element(By.CLASS_NAME, 'h2').text\n",
    "    ls_name = browser.find_element(By.XPATH, \"//*[@id='tns1-item0']/div/div[6]\").text\n",
    "    ls_price = browser.find_element(By.XPATH, \"//*[@id='tns1-item0']/div/div[3]\").text\n",
    "    demo = (store, ls_price, ls_name)\n",
    "    breck.append(demo)\n",
    "\n",
    "    #premium\n",
    "    store = browser.find_element(By.CLASS_NAME, 'h2').text\n",
    "    ls_price2 = browser.find_element(By.XPATH, '//*[@id=\"tns1-item1\"]/div/div[6]').text\n",
    "    ls_name2 = browser.find_element(By.XPATH, '//*[@id=\"tns1-item1\"]/div/div[3]').text\n",
    "    ls_premium = (store, ls_name2, ls_price2)\n",
    "    breck.append(ls_premium)\n",
    "\n",
    "    #sport kids\n",
    "    store = browser.find_element(By.CLASS_NAME, 'h2').text\n",
    "    ls_price3 = browser.find_element(By.XPATH, '//*[@id=\"tns1-item2\"]/div/div[6]').text\n",
    "    ls_name3 = browser.find_element(By.XPATH, '//*[@id=\"tns1-item2\"]/div/div[3]').text\n",
    "    ls_sport = (store, ls_name3, ls_price3)\n",
    "    breck.append(ls_sport)\n",
    "    \n",
    "    #sport adult\n",
    "    store = browser.find_element(By.CLASS_NAME, 'h2').text\n",
    "    ls_price4 = browser.find_element(By.XPATH, '//*[@id=\"tns1-item3\"]/div/div[6]').text\n",
    "    ls_name4 = browser.find_element(By.XPATH, '//*[@id=\"tns1-item3\"]/div/div[3]').text\n",
    "    ls_sport_adult = (store, ls_name4, ls_price4)\n",
    "    breck.append(ls_sport_adult)\n",
    "    \n",
    "    \n",
    "breck = pd.DataFrame(breck)\n",
    "breck['Price'] = breck[2].apply(func)\n",
    "breck = breck.drop(columns=[2])\n",
    "breck.columns = ['Store', 'Package', 'Price']\n",
    "breck"
   ]
  },
  {
   "cell_type": "markdown",
   "id": "3335688f",
   "metadata": {},
   "source": [
    "# Vail"
   ]
  },
  {
   "cell_type": "code",
   "execution_count": null,
   "id": "fe8f2159",
   "metadata": {},
   "outputs": [],
   "source": [
    "vail_stores = ['vail-village-bridge-street.html', 'lionshead-village.html', 'west-vail.html', 'delivery-vail.html']\n",
    "vail= []\n",
    "\n",
    "for store in vail_stores:\n",
    "    url = 'https://www.christysports.com/store-locations/' + store\n",
    "    browser.get(url)\n",
    "    #demo\n",
    "    store = browser.find_element(By.CLASS_NAME, 'h2').text\n",
    "    ls_name = browser.find_element(By.XPATH, '//*[@id=\"tns1-item0\"]/div/div[6]').text\n",
    "    ls_price = browser.find_element(By.XPATH, '//*[@id=\"tns1-item0\"]/div/div[3]').text\n",
    "    demo = (store, ls_price, ls_name)\n",
    "    vail.append(demo)\n",
    "\n",
    "    #premium\n",
    "    store = browser.find_element(By.CLASS_NAME, 'h2').text\n",
    "    ls_price2 = browser.find_element(By.XPATH, '//*[@id=\"tns1-item1\"]/div/div[6]').text\n",
    "    ls_name2 = browser.find_element(By.XPATH, '//*[@id=\"tns1-item1\"]/div/div[3]').text\n",
    "    ls_premium = (store, ls_name2, ls_price2)\n",
    "    vail.append(ls_premium)\n",
    "\n",
    "    #sport\n",
    "    store = browser.find_element(By.CLASS_NAME, 'h2').text\n",
    "    ls_price3 = browser.find_element(By.XPATH, '//*[@id=\"tns1-item2\"]/div/div[6]').text\n",
    "    ls_name3 = browser.find_element(By.XPATH, '//*[@id=\"tns1-item2\"]/div/div[3]').text\n",
    "    ls_sport = (store, ls_name3, ls_price3)\n",
    "    vail.append(ls_sport)\n",
    "    \n",
    "    #sport adult\n",
    "    store = browser.find_element(By.CLASS_NAME, 'h2').text\n",
    "    ls_price4 = browser.find_element(By.XPATH, '//*[@id=\"tns1-item3\"]/div/div[6]').text\n",
    "    ls_name4 = browser.find_element(By.XPATH, '//*[@id=\"tns1-item3\"]/div/div[3]').text\n",
    "    ls_sport_adult = (store, ls_name4, ls_price4)\n",
    "    vail.append(ls_sport_adult)\n",
    "    \n",
    "    \n",
    "vail = pd.DataFrame(vail)\n",
    "vail['Price'] = vail[2].apply(func)\n",
    "vail = vail.drop(columns=[2])\n",
    "vail.columns = ['Store', 'Package', 'Price']\n",
    "vail"
   ]
  },
  {
   "cell_type": "markdown",
   "id": "89a309ad",
   "metadata": {},
   "source": [
    "# Park City"
   ]
  },
  {
   "cell_type": "code",
   "execution_count": null,
   "id": "c6f8c939",
   "metadata": {},
   "outputs": [],
   "source": [
    "park_city_stores = ['deer-valley.html', 'snowbird.html', 'olympus-hills.html', 'kimball-junction.html', 'park-city.html']\n",
    "park_city = []\n",
    "\n",
    "for store in park_city_stores:\n",
    "    url = 'https://www.christysports.com/store-locations/' + store\n",
    "    browser.get(url)\n",
    "    #demo\n",
    "    store = browser.find_element(By.CLASS_NAME, 'h2').text\n",
    "    ls_name = browser.find_element(By.XPATH, '//*[@id=\"tns1-item0\"]/div/div[6]').text\n",
    "    ls_price = browser.find_element(By.XPATH, '//*[@id=\"tns1-item0\"]/div/div[3]').text\n",
    "    demo = (store, ls_price, ls_name)\n",
    "    park_city.append(demo)\n",
    "\n",
    "    #premium\n",
    "    store = browser.find_element(By.CLASS_NAME, 'h2').text\n",
    "    ls_price2 = browser.find_element(By.XPATH, '//*[@id=\"tns1-item1\"]/div/div[6]').text\n",
    "    ls_name2 = browser.find_element(By.XPATH, '//*[@id=\"tns1-item1\"]/div/div[3]').text\n",
    "    ls_premium = (store, ls_name2, ls_price2)\n",
    "    park_city.append(ls_premium)\n",
    "\n",
    "    #sport\n",
    "    store = browser.find_element(By.CLASS_NAME, 'h2').text\n",
    "    ls_price3 = browser.find_element(By.XPATH, '//*[@id=\"tns1-item2\"]/div/div[6]').text\n",
    "    ls_name3 = browser.find_element(By.XPATH, '//*[@id=\"tns1-item2\"]/div/div[3]').text\n",
    "    ls_sport = (store, ls_name3, ls_price3)\n",
    "    park_city.append(ls_sport)\n",
    "    \n",
    "    #sport adult\n",
    "    store = browser.find_element(By.CLASS_NAME, 'h2').text\n",
    "    ls_price4 = browser.find_element(By.XPATH, '//*[@id=\"tns1-item3\"]/div/div[6]').text\n",
    "    ls_name4 = browser.find_element(By.XPATH, '//*[@id=\"tns1-item3\"]/div/div[3]').text\n",
    "    ls_sport_adult = (store, ls_name4, ls_price4)\n",
    "    park_city.append(ls_sport_adult)\n",
    "    \n",
    "    \n",
    "park_city = pd.DataFrame(park_city)\n",
    "\n",
    "park_city['Price'] = park_city[2].apply(func)\n",
    "park_city = park_city.drop(columns=[2])\n",
    "park_city.columns = ['Store', 'Package', 'Price']\n",
    "park_city"
   ]
  },
  {
   "cell_type": "markdown",
   "id": "14ca621f",
   "metadata": {},
   "source": [
    "# Front Range"
   ]
  },
  {
   "cell_type": "code",
   "execution_count": null,
   "id": "215d11da",
   "metadata": {},
   "outputs": [],
   "source": [
    "front_range_stores = ['arvada.html', 'boulder.html', 'cherry-creek.html', 'denver-west.html', 'fort-collins.html', 'park-meadows.html', 'littleton-event-center.html']\n",
    "front_range= []\n",
    "\n",
    "for store in front_range_stores:\n",
    "    url = 'https://www.christysports.com/store-locations/' + store\n",
    "    browser.get(url)\n",
    "    #demo\n",
    "    store = browser.find_element(By.CLASS_NAME, 'h2').text\n",
    "    ls_name = browser.find_element(By.XPATH, '//*[@id=\"tns1-item0\"]/div/div[6]').text\n",
    "    ls_price = browser.find_element(By.XPATH, '//*[@id=\"tns1-item0\"]/div/div[3]').text\n",
    "    demo = (store, ls_price, ls_name)\n",
    "    front_range.append(demo)\n",
    "\n",
    "    #premium\n",
    "    store = browser.find_element(By.CLASS_NAME, 'h2').text\n",
    "    ls_price2 = browser.find_element(By.XPATH, '//*[@id=\"tns1-item1\"]/div/div[6]').text\n",
    "    ls_name2 = browser.find_element(By.XPATH, '//*[@id=\"tns1-item1\"]/div/div[3]').text\n",
    "    ls_premium = (store, ls_name2, ls_price2)\n",
    "    front_range.append(ls_premium)\n",
    "\n",
    "    #sport\n",
    "    store = browser.find_element(By.CLASS_NAME, 'h2').text\n",
    "    ls_price3 = browser.find_element(By.XPATH, '//*[@id=\"tns1-item2\"]/div/div[6]').text\n",
    "    ls_name3 = browser.find_element(By.XPATH, '//*[@id=\"tns1-item2\"]/div/div[3]').text\n",
    "    ls_sport = (store, ls_name3, ls_price3)\n",
    "    front_range.append(ls_sport)\n",
    "    \n",
    "    #sport adult\n",
    "    store = browser.find_element(By.CLASS_NAME, 'h2').text\n",
    "    ls_price4 = browser.find_element(By.XPATH, '//*[@id=\"tns1-item3\"]/div/div[6]').text\n",
    "    ls_name4 = browser.find_element(By.XPATH, '//*[@id=\"tns1-item3\"]/div/div[3]').text\n",
    "    ls_sport_adult = (store, ls_name4, ls_price4)\n",
    "    front_range.append(ls_sport_adult)\n",
    "    \n",
    "\n",
    "front_range = pd.DataFrame(front_range)\n",
    "\n",
    "front_range['Price'] = front_range[2].apply(func)\n",
    "front_range = front_range.drop(columns=[2])\n",
    "front_range.columns = ['Store', 'Package', 'Price']\n",
    "front_range"
   ]
  },
  {
   "cell_type": "markdown",
   "id": "e662d8bd",
   "metadata": {},
   "source": [
    "# Crested Butte"
   ]
  },
  {
   "cell_type": "code",
   "execution_count": null,
   "id": "9a870e9f",
   "metadata": {},
   "outputs": [],
   "source": [
    "crested_butte_stores = ['christy-sports-treasury-center.html', 'crested-butte.html', 'the-alpineer-crested-butte.html']\n",
    "\n",
    "crested_butte = []\n",
    "\n",
    "for store in crested_butte_stores:\n",
    "    url = 'https://www.christysports.com/store-locations/' + store\n",
    "    browser.get(url)\n",
    "    #demo\n",
    "    store = browser.find_element(By.CLASS_NAME, 'h2').text\n",
    "    ls_name = browser.find_element(By.XPATH, '//*[@id=\"tns1-item0\"]/div/div[6]').text\n",
    "    ls_price = browser.find_element(By.XPATH, '//*[@id=\"tns1-item0\"]/div/div[3]').text\n",
    "    demo = (store, ls_price, ls_name)\n",
    "    crested_butte.append(demo)\n",
    "\n",
    "    #premium\n",
    "    store = browser.find_element(By.CLASS_NAME, 'h2').text\n",
    "    ls_price2 = browser.find_element(By.XPATH, '//*[@id=\"tns1-item1\"]/div/div[6]').text\n",
    "    ls_name2 = browser.find_element(By.XPATH, '//*[@id=\"tns1-item1\"]/div/div[3]').text\n",
    "    ls_premium = (store, ls_name2, ls_price2)\n",
    "    crested_butte.append(ls_premium)\n",
    "\n",
    "    #sport\n",
    "    store = browser.find_element(By.CLASS_NAME, 'h2').text\n",
    "    ls_price3 = browser.find_element(By.XPATH, '//*[@id=\"tns1-item2\"]/div/div[6]').text\n",
    "    ls_name3 = browser.find_element(By.XPATH, '//*[@id=\"tns1-item2\"]/div/div[3]').text\n",
    "    ls_sport = (store, ls_name3, ls_price3)\n",
    "    crested_butte.append(ls_sport)\n",
    "    \n",
    "    #sport adult\n",
    "    store = browser.find_element(By.CLASS_NAME, 'h2').text\n",
    "    ls_price4 = browser.find_element(By.XPATH, '//*[@id=\"tns1-item3\"]/div/div[6]').text\n",
    "    ls_name4 = browser.find_element(By.XPATH, '//*[@id=\"tns1-item3\"]/div/div[3]').text\n",
    "    ls_sport_adult = (store, ls_name4, ls_price4)\n",
    "    crested_butte.append(ls_sport_adult)\n",
    "    \n",
    "crested_butte = pd.DataFrame(crested_butte)\n",
    "\n",
    "crested_butte['Price'] = crested_butte[2].apply(func)\n",
    "crested_butte = crested_butte.drop(columns=[2])\n",
    "crested_butte.columns = ['Store', 'Package', 'Price']\n",
    "crested_butte"
   ]
  },
  {
   "cell_type": "markdown",
   "id": "dc12c13c",
   "metadata": {},
   "source": [
    "# Aspen/Snowmass"
   ]
  },
  {
   "cell_type": "code",
   "execution_count": null,
   "id": "5bc78b71",
   "metadata": {},
   "outputs": [],
   "source": [
    "aspen_stores = ['snowmass-village.html', 'woodrun-condos.html', 'stonebridge-condos.html', ]\n",
    "\n",
    "aspen = []\n",
    "\n",
    "for store in aspen_stores:\n",
    "    url = 'https://www.christysports.com/store-locations/' + store\n",
    "    browser.get(url)\n",
    "    #demo\n",
    "    store = browser.find_element(By.CLASS_NAME, 'h2').text\n",
    "    ls_name = browser.find_element(By.XPATH, '//*[@id=\"tns1-item0\"]/div/div[6]').text\n",
    "    ls_price = browser.find_element(By.XPATH, '//*[@id=\"tns1-item0\"]/div/div[3]').text\n",
    "    demo = (store, ls_price, ls_name)\n",
    "    aspen.append(demo)\n",
    "\n",
    "    #premium\n",
    "    store = browser.find_element(By.CLASS_NAME, 'h2').text\n",
    "    ls_price2 = browser.find_element(By.XPATH, '//*[@id=\"tns1-item1\"]/div/div[6]').text\n",
    "    ls_name2 = browser.find_element(By.XPATH, '//*[@id=\"tns1-item1\"]/div/div[3]').text\n",
    "    ls_premium = (store, ls_name2, ls_price2)\n",
    "    aspen.append(ls_premium)\n",
    "\n",
    "    #sport\n",
    "    store = browser.find_element(By.CLASS_NAME, 'h2').text\n",
    "    ls_price3 = browser.find_element(By.XPATH, '//*[@id=\"tns1-item2\"]/div/div[6]').text\n",
    "    ls_name3 = browser.find_element(By.XPATH, '//*[@id=\"tns1-item2\"]/div/div[3]').text\n",
    "    ls_sport = (store, ls_name3, ls_price3)\n",
    "    aspen.append(ls_sport)\n",
    "    \n",
    "    #sport adult\n",
    "    store = browser.find_element(By.CLASS_NAME, 'h2').text\n",
    "    ls_price4 = browser.find_element(By.XPATH, '//*[@id=\"tns1-item3\"]/div/div[6]').text\n",
    "    ls_name4 = browser.find_element(By.XPATH, '//*[@id=\"tns1-item3\"]/div/div[3]').text\n",
    "    ls_sport_adult = (store, ls_name4, ls_price4)\n",
    "    aspen.append(ls_sport_adult)\n",
    "    \n",
    "aspen = pd.DataFrame(aspen)\n",
    "\n",
    "aspen['Price'] = aspen[2].apply(func)\n",
    "aspen = aspen.drop(columns=[2])\n",
    "aspen.columns = ['Store', 'Package', 'Price']\n",
    "aspen"
   ]
  },
  {
   "cell_type": "code",
   "execution_count": null,
   "id": "0be1db81",
   "metadata": {},
   "outputs": [],
   "source": [
    "from time import gmtime, strftime\n",
    "print ('Prices as of: ' + strftime(\"%Y-%m-%d %H:%M:%S\", gmtime()))"
   ]
  },
  {
   "cell_type": "code",
   "execution_count": null,
   "id": "f5400325",
   "metadata": {},
   "outputs": [],
   "source": [
    "#ask john about file path\n",
    "with pd.ExcelWriter('C:\\\\Users\\\\Benjamin.h.parsons\\\\OneDrive - Vail Resorts Management Company\\\\Desktop\\\\christy_sports_pricing.xlsx') as writer:\n",
    "    breck.to_excel(writer, sheet_name='breck')\n",
    "    vail.to_excel(writer, sheet_name='vail')\n",
    "    park_city.to_excel(writer, sheet_name='park_city')\n",
    "    front_range.to_excel(writer, sheet_name='front_range')\n",
    "    crested_butte.to_excel(writer, sheet_name='crested_butte')\n",
    "    aspen.to_excel(writer, sheet_name='aspen')"
   ]
  },
  {
   "cell_type": "code",
   "execution_count": null,
   "id": "c295e3e4",
   "metadata": {},
   "outputs": [],
   "source": []
  }
 ],
 "metadata": {
  "kernelspec": {
   "display_name": "Python 3 (ipykernel)",
   "language": "python",
   "name": "python3"
  },
  "language_info": {
   "codemirror_mode": {
    "name": "ipython",
    "version": 3
   },
   "file_extension": ".py",
   "mimetype": "text/x-python",
   "name": "python",
   "nbconvert_exporter": "python",
   "pygments_lexer": "ipython3",
   "version": "3.9.13"
  }
 },
 "nbformat": 4,
 "nbformat_minor": 5
}
